{
 "cells": [
  {
   "cell_type": "code",
   "execution_count": 1,
   "metadata": {},
   "outputs": [],
   "source": [
    "import json\n",
    "import parser_eto as par\n",
    "import eto_mongo as mg"
   ]
  },
  {
   "cell_type": "code",
   "execution_count": 2,
   "metadata": {},
   "outputs": [],
   "source": [
    "hash_experimento =\"5ea1a82993f4d56ba41e567d\"\n",
    "path_juncao = \"./examples/3-juncoes.json\""
   ]
  },
  {
   "cell_type": "code",
   "execution_count": null,
   "metadata": {},
   "outputs": [],
   "source": []
  },
  {
   "cell_type": "code",
   "execution_count": 3,
   "metadata": {},
   "outputs": [],
   "source": [
    "def get_arquivo(arquivo):\n",
    "    with open(arquivo, 'r', encoding=\"utf-8\") as f:\n",
    "        distros_dict = json.load(f)\n",
    "    # f = open(arquivo, \"rb\")\n",
    "    return distros_dict\n",
    "    "
   ]
  },
  {
   "cell_type": "code",
   "execution_count": 4,
   "metadata": {},
   "outputs": [
    {
     "name": "stdout",
     "output_type": "stream",
     "text": [
      "{'id_experimento': '', 'id_video': 'C:\\\\Mestrado Oficial Marino\\\\Videos cegados\\\\Calibrados\\\\a56z74b7.vxml', 'id_eto': 'C:\\\\Mestrado Oficial Marino\\\\Videos cegados\\\\Etografias\\\\a56z74b7.etoxml', 'id_tra': 'C:\\\\Mestrado Oficial Marino\\\\Videos cegados\\\\Tracking\\\\a56z74b7.tkin', 'var_ind': {'sexo': 'femea', 'dosagem': 'flx5mg', 'unidade': 'A1'}}\n"
     ]
    }
   ],
   "source": [
    "juncoes_paths = get_arquivo(\"./examples/db_juncao_melhorada.json\")\n",
    "len(juncoes_paths)\n",
    "print(juncoes_paths[0])"
   ]
  },
  {
   "cell_type": "code",
   "execution_count": 5,
   "metadata": {},
   "outputs": [],
   "source": [
    "def parse_documento(juncao):\n",
    "    doc_video = par.parser_xml_file_2_dict(juncao[\"id_video\"])\n",
    "    doc_eto = par.parser_xml_file_2_dict(juncao[\"id_eto\"])\n",
    "    doc_ras = par.parser_xml_file_2_dict(juncao[\"id_tra\"])\n",
    "    return doc_video, doc_eto, doc_ras\n",
    "    "
   ]
  },
  {
   "cell_type": "code",
   "execution_count": 6,
   "metadata": {},
   "outputs": [
    {
     "name": "stdout",
     "output_type": "stream",
     "text": [
      "OrderedDict([('cadastroVideo', OrderedDict([('dadoPesquisador', OrderedDict([('nomePesquisador', None), ('laboratorio', None)])), ('dadoExperimento', OrderedDict([('tituloExperimento', None), ('data', '01/01/2000'), ('otherInfo', None), ('animalID', None), ('wight', None), ('animalSex', None), ('threatmen', None)])), ('dadoOriginal', OrderedDict([('nomeOpencv', 'C:/Mestrado Oficial Marino/Videos cegados/a56z74b7.avi'), ('caminho', 'C:/Mestrado Oficial Marino/Videos cegados'), ('nomeOriginal', 'a56z74b7'), ('extensao', '.avi'), ('fps', '30'), ('quantidadeFrames', '8073'), ('quantidadeTempo', '269.1'), ('width', '320'), ('height', '240')])), ('dadoCalibracaoEdicao', OrderedDict([('frameInicial', '0'), ('blinding', 'false'), ('frameBack', '23'), ('frameFinal', '8038'), ('frameProces', '111'), ('treshold', '100'), ('erosao', '5'), ('escala', '7.59426'), ('proImageOn', 'true'), ('tratamentoRuido', OrderedDict([('janelaInteresse', OrderedDict([('ativado', 'true'), ('movel', 'true'), ('origX', '177.333'), ('origY', '27.3333'), ('width', '112.128'), ('heigth', '112.128')])), ('maximaVariacaoCentro', OrderedDict([('ativado', 'false'), ('tamanho', '-1')]))])), ('areasDeInteresse', OrderedDict([('area', OrderedDict([('@id', '0'), ('@tipo', 'rectangle'), ('nomeFig', 'Total Area'), ('oriX', '0'), ('oriY', '0'), ('height', '240'), ('width', '320')]))])), ('area', OrderedDict([('@id', '2'), ('@tipo', 'circle'), ('nomeFig', 'cir1'), ('oriX', '116'), ('oriY', '21.3333'), ('rad', '97.2065')]))]))]))])\n"
     ]
    }
   ],
   "source": [
    "doc_video, doc_eto, doc_ras = parse_documento(juncoes_paths[0])\n",
    "print(doc_video)"
   ]
  },
  {
   "cell_type": "code",
   "execution_count": 7,
   "metadata": {},
   "outputs": [
    {
     "data": {
      "text/plain": [
       "{'id_experimento': '',\n",
       " 'id_video': 'C:\\\\Mestrado Oficial Marino\\\\Videos cegados\\\\Calibrados\\\\a56z74b7.vxml',\n",
       " 'id_eto': 'C:\\\\Mestrado Oficial Marino\\\\Videos cegados\\\\Etografias\\\\a56z74b7.etoxml',\n",
       " 'id_tra': 'C:\\\\Mestrado Oficial Marino\\\\Videos cegados\\\\Tracking\\\\a56z74b7.tkin',\n",
       " 'var_ind': {'sexo': 'femea', 'dosagem': 'flx5mg', 'unidade': 'A1'}}"
      ]
     },
     "execution_count": 7,
     "metadata": {},
     "output_type": "execute_result"
    }
   ],
   "source": [
    "# Enviando\n",
    "juncoes_paths[0]"
   ]
  },
  {
   "cell_type": "code",
   "execution_count": 8,
   "metadata": {},
   "outputs": [],
   "source": [
    "for juncao in juncoes_paths:\n",
    "    #pega o experimentador\n",
    "    ex = mg.Experimento()\n",
    "    ex.get_by_hash(hash_experimento)\n",
    "    \n",
    "    #constroi a juncao\n",
    "    distros_dict = get_arquivo(path_juncao)\n",
    "    doc_video, doc_eto, doc_ras = parse_documento(juncao)\n",
    "    jc = mg.Juncao()\n",
    "    #constroi a juncao e ja da update.\n",
    "    jc.create_juncao(distros_dict[0],ex).update_video(doc_video).update_eto(doc_eto).update_tra(doc_ras).update_var_inde(juncao[\"var_ind\"])\n",
    "    "
   ]
  },
  {
   "cell_type": "code",
   "execution_count": null,
   "metadata": {},
   "outputs": [],
   "source": []
  },
  {
   "cell_type": "code",
   "execution_count": null,
   "metadata": {},
   "outputs": [],
   "source": []
  }
 ],
 "metadata": {
  "kernelspec": {
   "display_name": "Python 3",
   "language": "python",
   "name": "python3"
  },
  "language_info": {
   "codemirror_mode": {
    "name": "ipython",
    "version": 3
   },
   "file_extension": ".py",
   "mimetype": "text/x-python",
   "name": "python",
   "nbconvert_exporter": "python",
   "pygments_lexer": "ipython3",
   "version": "3.7.5"
  }
 },
 "nbformat": 4,
 "nbformat_minor": 4
}
