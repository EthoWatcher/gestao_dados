{
 "cells": [
  {
   "cell_type": "code",
   "execution_count": 1,
   "metadata": {},
   "outputs": [],
   "source": [
    "import numpy as np\n",
    "from scipy.stats import binom\n",
    "import matplotlib.pyplot as plt"
   ]
  },
  {
   "cell_type": "code",
   "execution_count": 2,
   "metadata": {},
   "outputs": [
    {
     "data": {
      "text/plain": [
       "0.05"
      ]
     },
     "execution_count": 2,
     "metadata": {},
     "output_type": "execute_result"
    }
   ],
   "source": [
    "lis_prob_uniform = np.arange(0,1,1/20)\n",
    "lis_prob_uniform[1]"
   ]
  },
  {
   "cell_type": "code",
   "execution_count": 3,
   "metadata": {},
   "outputs": [
    {
     "data": {
      "text/plain": [
       "array([0.05, 0.05, 0.05, 0.05, 0.05, 0.05, 0.05, 0.05, 0.05, 0.05, 0.05,\n",
       "       0.05, 0.05, 0.05, 0.05, 0.05, 0.05, 0.05, 0.05, 0.05])"
      ]
     },
     "execution_count": 3,
     "metadata": {},
     "output_type": "execute_result"
    }
   ],
   "source": [
    "prior = np.array([0.05 for x in range(20) ]) #np.random.uniform()\n",
    "prior\n",
    "\n",
    "\n"
   ]
  },
  {
   "cell_type": "code",
   "execution_count": 4,
   "metadata": {},
   "outputs": [],
   "source": [
    "def constroi_binomial(k,n):\n",
    "    def binomial(p):\n",
    "        s = binom.pmf(k, n, p)\n",
    "        return s \n",
    "    return binomial\n",
    "        "
   ]
  },
  {
   "cell_type": "code",
   "execution_count": 5,
   "metadata": {},
   "outputs": [
    {
     "data": {
      "text/plain": [
       "[0.0,\n",
       " 1.125304687499999e-06,\n",
       " 6.123600000000004e-05,\n",
       " 0.000587602476562501,\n",
       " 0.0027525120000000025,\n",
       " 0.008651733398437507,\n",
       " 0.021003948,\n",
       " 0.042406030570312524,\n",
       " 0.074317824,\n",
       " 0.11604927649218748,\n",
       " 0.16406250000000006,\n",
       " 0.21188146366406244,\n",
       " 0.250822656,\n",
       " 0.2716211345859373,\n",
       " 0.2668279319999999,\n",
       " 0.2335968017578125,\n",
       " 0.17616076799999994,\n",
       " 0.10692188767968734,\n",
       " 0.04464104399999997,\n",
       " 0.007718464851562475]"
      ]
     },
     "execution_count": 5,
     "metadata": {},
     "output_type": "execute_result"
    }
   ],
   "source": [
    "likelihood = list(map(constroi_binomial(6,9),lis_prob_uniform))\n",
    "likelihood"
   ]
  },
  {
   "cell_type": "code",
   "execution_count": 6,
   "metadata": {},
   "outputs": [],
   "source": [
    "def calc_likehood_bino(k,n, list_prob):\n",
    "    likelihood = list(map(constroi_binomial(6,9),p_grid))\n",
    "    return likelihood"
   ]
  },
  {
   "cell_type": "code",
   "execution_count": 7,
   "metadata": {},
   "outputs": [
    {
     "data": {
      "text/plain": [
       "0.0027525120000000025"
      ]
     },
     "execution_count": 7,
     "metadata": {},
     "output_type": "execute_result"
    }
   ],
   "source": [
    "# k = numero de sucesso\n",
    "# n = tentativas\n",
    "# p = probabilidade_sucesso\n",
    "\n",
    "s = binom.pmf(6, 9, 0.2)\n",
    "s\n"
   ]
  },
  {
   "cell_type": "code",
   "execution_count": null,
   "metadata": {},
   "outputs": [],
   "source": [
    "\n"
   ]
  },
  {
   "cell_type": "code",
   "execution_count": null,
   "metadata": {},
   "outputs": [],
   "source": []
  },
  {
   "cell_type": "code",
   "execution_count": 8,
   "metadata": {},
   "outputs": [],
   "source": [
    "def calc_post_bayes(likelihood, prior):\n",
    "    post = likelihood * prior\n",
    "    # normalizando para a soma ser 1\n",
    "    post = post/ sum(post)\n",
    "    return post"
   ]
  },
  {
   "cell_type": "code",
   "execution_count": 9,
   "metadata": {},
   "outputs": [
    {
     "data": {
      "text/plain": [
       "array([0.00000000e+00, 5.62628167e-07, 3.06166844e-05, 2.93788614e-04,\n",
       "       1.37619686e-03, 4.32568082e-03, 1.05015227e-02, 2.12021042e-02,\n",
       "       3.71573153e-02, 5.80221450e-02, 8.20277252e-02, 1.05936180e-01,\n",
       "       1.25405939e-01, 1.35804732e-01, 1.33408233e-01, 1.16793382e-01,\n",
       "       8.80765993e-02, 5.34586467e-02, 2.23195629e-02, 3.85906660e-03])"
      ]
     },
     "execution_count": 9,
     "metadata": {},
     "output_type": "execute_result"
    }
   ],
   "source": [
    "post = calc_post_bayes(likelihood, prior)\n",
    "post"
   ]
  },
  {
   "cell_type": "code",
   "execution_count": null,
   "metadata": {},
   "outputs": [],
   "source": []
  },
  {
   "cell_type": "code",
   "execution_count": 10,
   "metadata": {},
   "outputs": [
    {
     "data": {
      "text/plain": [
       "[<matplotlib.lines.Line2D at 0x20e1bf028c8>]"
      ]
     },
     "execution_count": 10,
     "metadata": {},
     "output_type": "execute_result"
    },
    {
     "data": {
      "image/png": "[encoded data removed]",
      "text/plain": [
       "<Figure size 432x288 with 1 Axes>"
      ]
     },
     "metadata": {
      "needs_background": "light"
     },
     "output_type": "display_data"
    }
   ],
   "source": [
    "plt.plot(post)"
   ]
  },
  {
   "cell_type": "code",
   "execution_count": null,
   "metadata": {},
   "outputs": [],
   "source": []
  }
 ],
 "metadata": {
  "kernelspec": {
   "display_name": "Python 3",
   "language": "python",
   "name": "python3"
  },
  "language_info": {
   "codemirror_mode": {
    "name": "ipython",
    "version": 3
   },
   "file_extension": ".py",
   "mimetype": "text/x-python",
   "name": "python",
   "nbconvert_exporter": "python",
   "pygments_lexer": "ipython3",
   "version": "3.7.5"
  }
 },
 "nbformat": 4,
 "nbformat_minor": 4
}
