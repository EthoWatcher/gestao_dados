{
 "cells": [
  {
   "cell_type": "code",
   "execution_count": 1,
   "metadata": {},
   "outputs": [],
   "source": [
    "import deposito_watcher.querys_feitas as qf\n",
    "import pandas as pd\n",
    "from bson.objectid import ObjectId"
   ]
  },
  {
   "cell_type": "code",
   "execution_count": 2,
   "metadata": {},
   "outputs": [],
   "source": [
    "dict_query = { \"$and\": [{\"id_experimento\": ObjectId(\"5ea1a82993f4d56ba41e567d\")}, \n",
    "                        {\"var_ind.sexo\":\"macho\"},{\"$or\": [{\"var_ind.dosagem\": \"flx2.5mg\"},\n",
    "                                 {\"var_ind.dosagem\": \"veiculo\"} ]}\n",
    "                        ]}"
   ]
  },
  {
   "cell_type": "code",
   "execution_count": 3,
   "metadata": {},
   "outputs": [],
   "source": [
    "def get_cursor(query):\n",
    "    j = qf.Get_Juncoes(query)\n",
    "    cursor = j.get_cursor()\n",
    "    return cursor"
   ]
  },
  {
   "cell_type": "code",
   "execution_count": 7,
   "metadata": {},
   "outputs": [
    {
     "ename": "TypeError",
     "evalue": "__init__() missing 1 required positional argument: 'query'",
     "output_type": "error",
     "traceback": [
      "\u001b[1;31m---------------------------------------------------------------------------\u001b[0m",
      "\u001b[1;31mTypeError\u001b[0m                                 Traceback (most recent call last)",
      "\u001b[1;32m<ipython-input-7-cd6712e25d7c>\u001b[0m in \u001b[0;36m<module>\u001b[1;34m\u001b[0m\n\u001b[0;32m      2\u001b[0m \u001b[1;33m\u001b[0m\u001b[0m\n\u001b[0;32m      3\u001b[0m \u001b[1;33m\u001b[0m\u001b[0m\n\u001b[1;32m----> 4\u001b[1;33m \u001b[0mcdj\u001b[0m \u001b[1;33m=\u001b[0m \u001b[0mqf\u001b[0m\u001b[1;33m.\u001b[0m\u001b[0mConstru_descritor_juncao\u001b[0m\u001b[1;33m(\u001b[0m\u001b[0mlis_de_juncao\u001b[0m\u001b[1;33m)\u001b[0m\u001b[1;33m\u001b[0m\u001b[1;33m\u001b[0m\u001b[0m\n\u001b[0m\u001b[0;32m      5\u001b[0m \u001b[0mresultado\u001b[0m \u001b[1;33m=\u001b[0m \u001b[0mcdj\u001b[0m\u001b[1;33m.\u001b[0m\u001b[0mget_descritor\u001b[0m\u001b[1;33m(\u001b[0m\u001b[0mdict_query\u001b[0m \u001b[1;33m)\u001b[0m\u001b[1;33m\u001b[0m\u001b[1;33m\u001b[0m\u001b[0m\n\u001b[0;32m      6\u001b[0m \u001b[0mtr\u001b[0m \u001b[1;33m=\u001b[0m \u001b[0mqf\u001b[0m\u001b[1;33m.\u001b[0m\u001b[0mTransforma_Estrutura_Dados_Panda\u001b[0m\u001b[1;33m(\u001b[0m\u001b[0mresultado\u001b[0m\u001b[1;33m)\u001b[0m\u001b[1;33m\u001b[0m\u001b[1;33m\u001b[0m\u001b[0m\n",
      "\u001b[1;31mTypeError\u001b[0m: __init__() missing 1 required positional argument: 'query'"
     ]
    }
   ],
   "source": [
    "lis_de_juncao = [\"sexo\", \"dosagem\", \"unidade\"]\n",
    "\n",
    "\n",
    "cdj = qf.Constru_descritor_juncao(lis_de_juncao)\n",
    "resultado = cdj.get_descritor(list(get_cursor(dict_query)))\n",
    "tr = qf.Transforma_Estrutura_Dados_Panda(resultado)\n",
    "df = tr.get_df()\n",
    "print(df)"
   ]
  },
  {
   "cell_type": "code",
   "execution_count": 8,
   "metadata": {},
   "outputs": [
    {
     "ename": "AttributeError",
     "evalue": "module 'deposito_watcher.querys_feitas' has no attribute 'Get_CSV'",
     "output_type": "error",
     "traceback": [
      "\u001b[1;31m---------------------------------------------------------------------------\u001b[0m",
      "\u001b[1;31mAttributeError\u001b[0m                            Traceback (most recent call last)",
      "\u001b[1;32m<ipython-input-8-4645d8126806>\u001b[0m in \u001b[0;36m<module>\u001b[1;34m\u001b[0m\n\u001b[1;32m----> 1\u001b[1;33m \u001b[0mcs\u001b[0m \u001b[1;33m=\u001b[0m \u001b[0mqf\u001b[0m\u001b[1;33m.\u001b[0m\u001b[0mGet_CSV\u001b[0m\u001b[1;33m(\u001b[0m\u001b[0mdict_query\u001b[0m\u001b[1;33m)\u001b[0m\u001b[1;33m\u001b[0m\u001b[1;33m\u001b[0m\u001b[0m\n\u001b[0m\u001b[0;32m      2\u001b[0m \u001b[0mli_str_descritores\u001b[0m \u001b[1;33m=\u001b[0m \u001b[1;33m[\u001b[0m\u001b[1;34m\"duracao\"\u001b[0m\u001b[1;33m,\u001b[0m \u001b[1;34m\"frequencia\"\u001b[0m\u001b[1;33m]\u001b[0m\u001b[1;33m\u001b[0m\u001b[1;33m\u001b[0m\u001b[0m\n\u001b[0;32m      3\u001b[0m \u001b[0mli_str_categora\u001b[0m \u001b[1;33m=\u001b[0m \u001b[1;33m[\u001b[0m\u001b[1;34m\"Immobility\"\u001b[0m\u001b[1;33m,\u001b[0m \u001b[1;34m\"Swimming\"\u001b[0m\u001b[1;33m]\u001b[0m\u001b[1;33m\u001b[0m\u001b[1;33m\u001b[0m\u001b[0m\n\u001b[0;32m      4\u001b[0m \u001b[1;33m\u001b[0m\u001b[0m\n\u001b[0;32m      5\u001b[0m \u001b[0mdata\u001b[0m \u001b[1;33m=\u001b[0m \u001b[0mcs\u001b[0m\u001b[1;33m.\u001b[0m\u001b[0mset_descritores_experimentais\u001b[0m\u001b[1;33m(\u001b[0m\u001b[0mli_str_descritores\u001b[0m\u001b[1;33m,\u001b[0m \u001b[0mli_str_categora\u001b[0m \u001b[1;33m)\u001b[0m\u001b[1;33m\u001b[0m\u001b[1;33m\u001b[0m\u001b[0m\n",
      "\u001b[1;31mAttributeError\u001b[0m: module 'deposito_watcher.querys_feitas' has no attribute 'Get_CSV'"
     ]
    }
   ],
   "source": [
    "cs = qf.Get_CSV(dict_query)\n",
    "li_str_descritores = [\"duracao\", \"frequencia\"]\n",
    "li_str_categora = [\"Immobility\", \"Swimming\"]\n",
    "\n",
    "data = cs.set_descritores_experimentais(li_str_descritores, li_str_categora )\n",
    "tr1 = qf.Transforma_Estrutura_Dados_Panda(data)\n",
    "df1 = tr1.get_df()\n",
    "print(df1)"
   ]
  },
  {
   "cell_type": "code",
   "execution_count": 6,
   "metadata": {},
   "outputs": [
    {
     "ename": "NameError",
     "evalue": "name 'df' is not defined",
     "output_type": "error",
     "traceback": [
      "\u001b[1;31m---------------------------------------------------------------------------\u001b[0m",
      "\u001b[1;31mNameError\u001b[0m                                 Traceback (most recent call last)",
      "\u001b[1;32m<ipython-input-6-3ac34c97ae00>\u001b[0m in \u001b[0;36m<module>\u001b[1;34m\u001b[0m\n\u001b[1;32m----> 1\u001b[1;33m \u001b[0mdf_merge_col\u001b[0m \u001b[1;33m=\u001b[0m \u001b[0mpd\u001b[0m\u001b[1;33m.\u001b[0m\u001b[0mmerge\u001b[0m\u001b[1;33m(\u001b[0m\u001b[0mdf\u001b[0m\u001b[1;33m,\u001b[0m \u001b[0mdf1\u001b[0m\u001b[1;33m,\u001b[0m \u001b[0mon\u001b[0m\u001b[1;33m=\u001b[0m\u001b[1;34m'id_j'\u001b[0m\u001b[1;33m)\u001b[0m\u001b[1;33m\u001b[0m\u001b[1;33m\u001b[0m\u001b[0m\n\u001b[0m\u001b[0;32m      2\u001b[0m \u001b[0mdf_merge_col\u001b[0m\u001b[1;33m\u001b[0m\u001b[1;33m\u001b[0m\u001b[0m\n",
      "\u001b[1;31mNameError\u001b[0m: name 'df' is not defined"
     ]
    }
   ],
   "source": [
    "df_merge_col = pd.merge(df, df1, on='id_j')\n",
    "df_merge_col"
   ]
  },
  {
   "cell_type": "code",
   "execution_count": null,
   "metadata": {},
   "outputs": [],
   "source": []
  },
  {
   "cell_type": "code",
   "execution_count": null,
   "metadata": {},
   "outputs": [],
   "source": []
  }
 ],
 "metadata": {
  "kernelspec": {
   "display_name": "Python 3",
   "language": "python",
   "name": "python3"
  },
  "language_info": {
   "codemirror_mode": {
    "name": "ipython",
    "version": 3
   },
   "file_extension": ".py",
   "mimetype": "text/x-python",
   "name": "python",
   "nbconvert_exporter": "python",
   "pygments_lexer": "ipython3",
   "version": "3.7.9"
  }
 },
 "nbformat": 4,
 "nbformat_minor": 4
}
