{
 "cells": [
  {
   "cell_type": "code",
   "execution_count": 4,
   "metadata": {},
   "outputs": [],
   "source": [
    "from pymc3 import Model, Uniform, Normal\n"
   ]
  },
  {
   "cell_type": "code",
   "execution_count": null,
   "metadata": {},
   "outputs": [],
   "source": [
    "# Aprendendo a mecher com bayes com pymc3"
   ]
  },
  {
   "cell_type": "code",
   "execution_count": 38,
   "metadata": {},
   "outputs": [],
   "source": [
    "import numpy as np\n",
    "import pandas as pd \n",
    "import matplotlib.pyplot as plt"
   ]
  },
  {
   "cell_type": "markdown",
   "metadata": {},
   "source": [
    "# Abrindo os dados"
   ]
  },
  {
   "cell_type": "code",
   "execution_count": 9,
   "metadata": {},
   "outputs": [
    {
     "data": {
      "text/html": [
       "<div>\n",
       "<style scoped>\n",
       "    .dataframe tbody tr th:only-of-type {\n",
       "        vertical-align: middle;\n",
       "    }\n",
       "\n",
       "    .dataframe tbody tr th {\n",
       "        vertical-align: top;\n",
       "    }\n",
       "\n",
       "    .dataframe thead th {\n",
       "        text-align: right;\n",
       "    }\n",
       "</style>\n",
       "<table border=\"1\" class=\"dataframe\">\n",
       "  <thead>\n",
       "    <tr style=\"text-align: right;\">\n",
       "      <th></th>\n",
       "      <th>idnum</th>\n",
       "      <th>state</th>\n",
       "      <th>state2</th>\n",
       "      <th>stfips</th>\n",
       "      <th>zip</th>\n",
       "      <th>region</th>\n",
       "      <th>typebldg</th>\n",
       "      <th>floor</th>\n",
       "      <th>room</th>\n",
       "      <th>basement</th>\n",
       "      <th>...</th>\n",
       "      <th>pcterr</th>\n",
       "      <th>adjwt</th>\n",
       "      <th>dupflag</th>\n",
       "      <th>zipflag</th>\n",
       "      <th>cntyfips</th>\n",
       "      <th>county</th>\n",
       "      <th>fips</th>\n",
       "      <th>Uppm</th>\n",
       "      <th>county_code</th>\n",
       "      <th>log_radon</th>\n",
       "    </tr>\n",
       "  </thead>\n",
       "  <tbody>\n",
       "    <tr>\n",
       "      <th>0</th>\n",
       "      <td>5081.0</td>\n",
       "      <td>MN</td>\n",
       "      <td>MN</td>\n",
       "      <td>27.0</td>\n",
       "      <td>55735</td>\n",
       "      <td>5.0</td>\n",
       "      <td>1.0</td>\n",
       "      <td>1.0</td>\n",
       "      <td>3.0</td>\n",
       "      <td>N</td>\n",
       "      <td>...</td>\n",
       "      <td>9.7</td>\n",
       "      <td>1146.499190</td>\n",
       "      <td>1.0</td>\n",
       "      <td>0.0</td>\n",
       "      <td>1.0</td>\n",
       "      <td>AITKIN</td>\n",
       "      <td>27001.0</td>\n",
       "      <td>0.502054</td>\n",
       "      <td>0</td>\n",
       "      <td>0.832909</td>\n",
       "    </tr>\n",
       "    <tr>\n",
       "      <th>1</th>\n",
       "      <td>5082.0</td>\n",
       "      <td>MN</td>\n",
       "      <td>MN</td>\n",
       "      <td>27.0</td>\n",
       "      <td>55748</td>\n",
       "      <td>5.0</td>\n",
       "      <td>1.0</td>\n",
       "      <td>0.0</td>\n",
       "      <td>4.0</td>\n",
       "      <td>Y</td>\n",
       "      <td>...</td>\n",
       "      <td>14.5</td>\n",
       "      <td>471.366223</td>\n",
       "      <td>0.0</td>\n",
       "      <td>0.0</td>\n",
       "      <td>1.0</td>\n",
       "      <td>AITKIN</td>\n",
       "      <td>27001.0</td>\n",
       "      <td>0.502054</td>\n",
       "      <td>0</td>\n",
       "      <td>0.832909</td>\n",
       "    </tr>\n",
       "    <tr>\n",
       "      <th>2</th>\n",
       "      <td>5083.0</td>\n",
       "      <td>MN</td>\n",
       "      <td>MN</td>\n",
       "      <td>27.0</td>\n",
       "      <td>55748</td>\n",
       "      <td>5.0</td>\n",
       "      <td>1.0</td>\n",
       "      <td>0.0</td>\n",
       "      <td>4.0</td>\n",
       "      <td>Y</td>\n",
       "      <td>...</td>\n",
       "      <td>9.6</td>\n",
       "      <td>433.316718</td>\n",
       "      <td>0.0</td>\n",
       "      <td>0.0</td>\n",
       "      <td>1.0</td>\n",
       "      <td>AITKIN</td>\n",
       "      <td>27001.0</td>\n",
       "      <td>0.502054</td>\n",
       "      <td>0</td>\n",
       "      <td>1.098612</td>\n",
       "    </tr>\n",
       "    <tr>\n",
       "      <th>3</th>\n",
       "      <td>5084.0</td>\n",
       "      <td>MN</td>\n",
       "      <td>MN</td>\n",
       "      <td>27.0</td>\n",
       "      <td>56469</td>\n",
       "      <td>5.0</td>\n",
       "      <td>1.0</td>\n",
       "      <td>0.0</td>\n",
       "      <td>4.0</td>\n",
       "      <td>Y</td>\n",
       "      <td>...</td>\n",
       "      <td>24.3</td>\n",
       "      <td>461.623670</td>\n",
       "      <td>0.0</td>\n",
       "      <td>0.0</td>\n",
       "      <td>1.0</td>\n",
       "      <td>AITKIN</td>\n",
       "      <td>27001.0</td>\n",
       "      <td>0.502054</td>\n",
       "      <td>0</td>\n",
       "      <td>0.095310</td>\n",
       "    </tr>\n",
       "    <tr>\n",
       "      <th>4</th>\n",
       "      <td>5085.0</td>\n",
       "      <td>MN</td>\n",
       "      <td>MN</td>\n",
       "      <td>27.0</td>\n",
       "      <td>55011</td>\n",
       "      <td>3.0</td>\n",
       "      <td>1.0</td>\n",
       "      <td>0.0</td>\n",
       "      <td>4.0</td>\n",
       "      <td>Y</td>\n",
       "      <td>...</td>\n",
       "      <td>13.8</td>\n",
       "      <td>433.316718</td>\n",
       "      <td>0.0</td>\n",
       "      <td>0.0</td>\n",
       "      <td>3.0</td>\n",
       "      <td>ANOKA</td>\n",
       "      <td>27003.0</td>\n",
       "      <td>0.428565</td>\n",
       "      <td>1</td>\n",
       "      <td>1.163151</td>\n",
       "    </tr>\n",
       "  </tbody>\n",
       "</table>\n",
       "<p>5 rows × 29 columns</p>\n",
       "</div>"
      ],
      "text/plain": [
       "    idnum state state2  stfips    zip  region  typebldg  floor  room basement  \\\n",
       "0  5081.0    MN     MN    27.0  55735     5.0       1.0    1.0   3.0        N   \n",
       "1  5082.0    MN     MN    27.0  55748     5.0       1.0    0.0   4.0        Y   \n",
       "2  5083.0    MN     MN    27.0  55748     5.0       1.0    0.0   4.0        Y   \n",
       "3  5084.0    MN     MN    27.0  56469     5.0       1.0    0.0   4.0        Y   \n",
       "4  5085.0    MN     MN    27.0  55011     3.0       1.0    0.0   4.0        Y   \n",
       "\n",
       "   ... pcterr        adjwt  dupflag  zipflag  cntyfips  county     fips  \\\n",
       "0  ...    9.7  1146.499190      1.0      0.0       1.0  AITKIN  27001.0   \n",
       "1  ...   14.5   471.366223      0.0      0.0       1.0  AITKIN  27001.0   \n",
       "2  ...    9.6   433.316718      0.0      0.0       1.0  AITKIN  27001.0   \n",
       "3  ...   24.3   461.623670      0.0      0.0       1.0  AITKIN  27001.0   \n",
       "4  ...   13.8   433.316718      0.0      0.0       3.0   ANOKA  27003.0   \n",
       "\n",
       "       Uppm  county_code  log_radon  \n",
       "0  0.502054            0   0.832909  \n",
       "1  0.502054            0   0.832909  \n",
       "2  0.502054            0   1.098612  \n",
       "3  0.502054            0   0.095310  \n",
       "4  0.428565            1   1.163151  \n",
       "\n",
       "[5 rows x 29 columns]"
      ]
     },
     "execution_count": 9,
     "metadata": {},
     "output_type": "execute_result"
    }
   ],
   "source": [
    "radon = pd.read_csv(\"radon.csv\", index_col=0)\n",
    "radon.head()"
   ]
  },
  {
   "cell_type": "code",
   "execution_count": 14,
   "metadata": {},
   "outputs": [
    {
     "data": {
      "text/plain": [
       "264    2.079442\n",
       "265    1.223775\n",
       "266    0.788457\n",
       "267    0.530628\n",
       "268    1.410987\n",
       "Name: log_radon, dtype: float64"
      ]
     },
     "execution_count": 14,
     "metadata": {},
     "output_type": "execute_result"
    }
   ],
   "source": [
    "hennepin_radon = radon.query('county==\"HENNEPIN\"')\n",
    "data = hennepin_radon[\"log_radon\"]\n",
    "data.head()"
   ]
  },
  {
   "cell_type": "markdown",
   "metadata": {},
   "source": [
    "# construindo o modelo"
   ]
  },
  {
   "cell_type": "code",
   "execution_count": 16,
   "metadata": {},
   "outputs": [],
   "source": [
    "# construindo o modelo"
   ]
  },
  {
   "cell_type": "code",
   "execution_count": 5,
   "metadata": {},
   "outputs": [],
   "source": [
    "with Model() as random_model:\n",
    "    m_u = Normal(\"m_u\", mu=0,sd=10)\n",
    "    sd = Uniform(\"sd\", 0,10)"
   ]
  },
  {
   "cell_type": "code",
   "execution_count": 36,
   "metadata": {},
   "outputs": [],
   "source": [
    "# Passanbdo dados para o modelo"
   ]
  },
  {
   "cell_type": "code",
   "execution_count": 15,
   "metadata": {},
   "outputs": [],
   "source": [
    "with random_model:\n",
    "    dist = Normal(\"dist\", mu=m_u, sd=sd, observed=data )"
   ]
  },
  {
   "cell_type": "markdown",
   "metadata": {},
   "source": [
    "# extraindo amostras do nosso modelo"
   ]
  },
  {
   "cell_type": "code",
   "execution_count": 18,
   "metadata": {},
   "outputs": [],
   "source": [
    "from pymc3 import fit\n"
   ]
  },
  {
   "cell_type": "code",
   "execution_count": 19,
   "metadata": {},
   "outputs": [
    {
     "name": "stderr",
     "output_type": "stream",
     "text": [
      "Average Loss = 135.45: 100%|████████████████████████████████████████████████████████████████████████████| 10000/10000 [00:02<00:00, 3912.20it/s]\n",
      "Finished [100%]: Average Loss = 135.33\n"
     ]
    }
   ],
   "source": [
    "with random_model:\n",
    "    samples =  fit(random_seed=10000).sample(1000)"
   ]
  },
  {
   "cell_type": "code",
   "execution_count": 20,
   "metadata": {},
   "outputs": [],
   "source": [
    "from pymc3 import plot_posterior"
   ]
  },
  {
   "cell_type": "code",
   "execution_count": 23,
   "metadata": {},
   "outputs": [
    {
     "name": "stderr",
     "output_type": "stream",
     "text": [
      "C:\\Users\\zn_jo\\AppData\\Local\\Programs\\Python\\Python37\\lib\\site-packages\\pymc3\\plots\\__init__.py:21: UserWarning: Keyword argument `varnames` renamed to `var_names`, and will be removed in pymc3 3.8\n",
      "  warnings.warn('Keyword argument `{old}` renamed to `{new}`, and will be removed in pymc3 3.8'.format(old=old, new=new))\n"
     ]
    },
    {
     "data": {
      "text/plain": [
       "array([<matplotlib.axes._subplots.AxesSubplot object at 0x0000018DD2CE3F08>],\n",
       "      dtype=object)"
      ]
     },
     "execution_count": 23,
     "metadata": {},
     "output_type": "execute_result"
    },
    {
     "data": {
      "image/png": "[encoded data removed]",
      "text/plain": [
       "<Figure size 432x288 with 1 Axes>"
      ]
     },
     "metadata": {
      "needs_background": "light"
     },
     "output_type": "display_data"
    }
   ],
   "source": [
    "plot_posterior(samples, varnames=[\"m_u\"], ref_val=np.log(4), color=\"LightSeaGreen\")"
   ]
  },
  {
   "cell_type": "markdown",
   "metadata": {},
   "source": [
    "o intervalo de credibilidade é de 0.88 até 1.8 nas médias"
   ]
  },
  {
   "cell_type": "code",
   "execution_count": 47,
   "metadata": {
    "scrolled": true
   },
   "outputs": [
    {
     "data": {
      "text/plain": [
       "(array([0.007, 0.092, 0.205, 0.279, 0.205, 0.129, 0.04 , 0.027, 0.008,\n",
       "        0.008]),\n",
       " array([1.59283786, 2.17481245, 2.75678703, 3.33876161, 3.92073619,\n",
       "        4.50271077, 5.08468535, 5.66665993, 6.24863451, 6.83060909,\n",
       "        7.41258367]),\n",
       " <a list of 10 Patch objects>)"
      ]
     },
     "execution_count": 47,
     "metadata": {},
     "output_type": "execute_result"
    },
    {
     "data": {
      "image/png": "[encoded data removed]",
      "text/plain": [
       "<Figure size 432x288 with 1 Axes>"
      ]
     },
     "metadata": {
      "needs_background": "light"
     },
     "output_type": "display_data"
    }
   ],
   "source": [
    "plt.hist( np.exp(samples[\"m_u\"]), weights=np.full(1000 , 1/1000))"
   ]
  },
  {
   "cell_type": "code",
   "execution_count": 45,
   "metadata": {},
   "outputs": [
    {
     "data": {
      "text/plain": [
       "array([1000, 1000, 1000, 1000, 1000, 1000, 1000, 1000, 1000, 1000, 1000,\n",
       "       1000, 1000, 1000, 1000, 1000, 1000, 1000, 1000, 1000, 1000, 1000,\n",
       "       1000, 1000, 1000, 1000, 1000, 1000, 1000, 1000, 1000, 1000, 1000,\n",
       "       1000, 1000, 1000, 1000, 1000, 1000, 1000, 1000, 1000, 1000, 1000,\n",
       "       1000, 1000, 1000, 1000, 1000, 1000, 1000, 1000, 1000, 1000, 1000,\n",
       "       1000, 1000, 1000, 1000, 1000, 1000, 1000, 1000, 1000, 1000, 1000,\n",
       "       1000, 1000, 1000, 1000, 1000, 1000, 1000, 1000, 1000, 1000, 1000,\n",
       "       1000, 1000, 1000, 1000, 1000, 1000, 1000, 1000, 1000, 1000, 1000,\n",
       "       1000, 1000, 1000, 1000, 1000, 1000, 1000, 1000, 1000, 1000, 1000,\n",
       "       1000, 1000, 1000, 1000, 1000, 1000, 1000, 1000, 1000, 1000, 1000,\n",
       "       1000, 1000, 1000, 1000, 1000, 1000, 1000, 1000, 1000, 1000, 1000,\n",
       "       1000, 1000, 1000, 1000, 1000, 1000, 1000, 1000, 1000, 1000, 1000,\n",
       "       1000, 1000, 1000, 1000, 1000, 1000, 1000, 1000, 1000, 1000, 1000,\n",
       "       1000, 1000, 1000, 1000, 1000, 1000, 1000, 1000, 1000, 1000, 1000,\n",
       "       1000, 1000, 1000, 1000, 1000, 1000, 1000, 1000, 1000, 1000, 1000,\n",
       "       1000, 1000, 1000, 1000, 1000, 1000, 1000, 1000, 1000, 1000, 1000,\n",
       "       1000, 1000, 1000, 1000, 1000, 1000, 1000, 1000, 1000, 1000, 1000,\n",
       "       1000, 1000, 1000, 1000, 1000, 1000, 1000, 1000, 1000, 1000, 1000,\n",
       "       1000, 1000, 1000, 1000, 1000, 1000, 1000, 1000, 1000, 1000, 1000,\n",
       "       1000, 1000, 1000, 1000, 1000, 1000, 1000, 1000, 1000, 1000, 1000,\n",
       "       1000, 1000, 1000, 1000, 1000, 1000, 1000, 1000, 1000, 1000, 1000,\n",
       "       1000, 1000, 1000, 1000, 1000, 1000, 1000, 1000, 1000, 1000, 1000,\n",
       "       1000, 1000, 1000, 1000, 1000, 1000, 1000, 1000, 1000, 1000, 1000,\n",
       "       1000, 1000, 1000, 1000, 1000, 1000, 1000, 1000, 1000, 1000, 1000,\n",
       "       1000, 1000, 1000, 1000, 1000, 1000, 1000, 1000, 1000, 1000, 1000,\n",
       "       1000, 1000, 1000, 1000, 1000, 1000, 1000, 1000, 1000, 1000, 1000,\n",
       "       1000, 1000, 1000, 1000, 1000, 1000, 1000, 1000, 1000, 1000, 1000,\n",
       "       1000, 1000, 1000, 1000, 1000, 1000, 1000, 1000, 1000, 1000, 1000,\n",
       "       1000, 1000, 1000, 1000, 1000, 1000, 1000, 1000, 1000, 1000, 1000,\n",
       "       1000, 1000, 1000, 1000, 1000, 1000, 1000, 1000, 1000, 1000, 1000,\n",
       "       1000, 1000, 1000, 1000, 1000, 1000, 1000, 1000, 1000, 1000, 1000,\n",
       "       1000, 1000, 1000, 1000, 1000, 1000, 1000, 1000, 1000, 1000, 1000,\n",
       "       1000, 1000, 1000, 1000, 1000, 1000, 1000, 1000, 1000, 1000, 1000,\n",
       "       1000, 1000, 1000, 1000, 1000, 1000, 1000, 1000, 1000, 1000, 1000,\n",
       "       1000, 1000, 1000, 1000, 1000, 1000, 1000, 1000, 1000, 1000, 1000,\n",
       "       1000, 1000, 1000, 1000, 1000, 1000, 1000, 1000, 1000, 1000, 1000,\n",
       "       1000, 1000, 1000, 1000, 1000, 1000, 1000, 1000, 1000, 1000, 1000,\n",
       "       1000, 1000, 1000, 1000, 1000, 1000, 1000, 1000, 1000, 1000, 1000,\n",
       "       1000, 1000, 1000, 1000, 1000, 1000, 1000, 1000, 1000, 1000, 1000,\n",
       "       1000, 1000, 1000, 1000, 1000, 1000, 1000, 1000, 1000, 1000, 1000,\n",
       "       1000, 1000, 1000, 1000, 1000, 1000, 1000, 1000, 1000, 1000, 1000,\n",
       "       1000, 1000, 1000, 1000, 1000, 1000, 1000, 1000, 1000, 1000, 1000,\n",
       "       1000, 1000, 1000, 1000, 1000, 1000, 1000, 1000, 1000, 1000, 1000,\n",
       "       1000, 1000, 1000, 1000, 1000, 1000, 1000, 1000, 1000, 1000, 1000,\n",
       "       1000, 1000, 1000, 1000, 1000, 1000, 1000, 1000, 1000, 1000, 1000,\n",
       "       1000, 1000, 1000, 1000, 1000, 1000, 1000, 1000, 1000, 1000, 1000,\n",
       "       1000, 1000, 1000, 1000, 1000, 1000, 1000, 1000, 1000, 1000, 1000,\n",
       "       1000, 1000, 1000, 1000, 1000, 1000, 1000, 1000, 1000, 1000, 1000,\n",
       "       1000, 1000, 1000, 1000, 1000, 1000, 1000, 1000, 1000, 1000, 1000,\n",
       "       1000, 1000, 1000, 1000, 1000, 1000, 1000, 1000, 1000, 1000, 1000,\n",
       "       1000, 1000, 1000, 1000, 1000, 1000, 1000, 1000, 1000, 1000, 1000,\n",
       "       1000, 1000, 1000, 1000, 1000, 1000, 1000, 1000, 1000, 1000, 1000,\n",
       "       1000, 1000, 1000, 1000, 1000, 1000, 1000, 1000, 1000, 1000, 1000,\n",
       "       1000, 1000, 1000, 1000, 1000, 1000, 1000, 1000, 1000, 1000, 1000,\n",
       "       1000, 1000, 1000, 1000, 1000, 1000, 1000, 1000, 1000, 1000, 1000,\n",
       "       1000, 1000, 1000, 1000, 1000, 1000, 1000, 1000, 1000, 1000, 1000,\n",
       "       1000, 1000, 1000, 1000, 1000, 1000, 1000, 1000, 1000, 1000, 1000,\n",
       "       1000, 1000, 1000, 1000, 1000, 1000, 1000, 1000, 1000, 1000, 1000,\n",
       "       1000, 1000, 1000, 1000, 1000, 1000, 1000, 1000, 1000, 1000, 1000,\n",
       "       1000, 1000, 1000, 1000, 1000, 1000, 1000, 1000, 1000, 1000, 1000,\n",
       "       1000, 1000, 1000, 1000, 1000, 1000, 1000, 1000, 1000, 1000, 1000,\n",
       "       1000, 1000, 1000, 1000, 1000, 1000, 1000, 1000, 1000, 1000, 1000,\n",
       "       1000, 1000, 1000, 1000, 1000, 1000, 1000, 1000, 1000, 1000, 1000,\n",
       "       1000, 1000, 1000, 1000, 1000, 1000, 1000, 1000, 1000, 1000, 1000,\n",
       "       1000, 1000, 1000, 1000, 1000, 1000, 1000, 1000, 1000, 1000, 1000,\n",
       "       1000, 1000, 1000, 1000, 1000, 1000, 1000, 1000, 1000, 1000, 1000,\n",
       "       1000, 1000, 1000, 1000, 1000, 1000, 1000, 1000, 1000, 1000, 1000,\n",
       "       1000, 1000, 1000, 1000, 1000, 1000, 1000, 1000, 1000, 1000, 1000,\n",
       "       1000, 1000, 1000, 1000, 1000, 1000, 1000, 1000, 1000, 1000, 1000,\n",
       "       1000, 1000, 1000, 1000, 1000, 1000, 1000, 1000, 1000, 1000, 1000,\n",
       "       1000, 1000, 1000, 1000, 1000, 1000, 1000, 1000, 1000, 1000, 1000,\n",
       "       1000, 1000, 1000, 1000, 1000, 1000, 1000, 1000, 1000, 1000, 1000,\n",
       "       1000, 1000, 1000, 1000, 1000, 1000, 1000, 1000, 1000, 1000, 1000,\n",
       "       1000, 1000, 1000, 1000, 1000, 1000, 1000, 1000, 1000, 1000, 1000,\n",
       "       1000, 1000, 1000, 1000, 1000, 1000, 1000, 1000, 1000, 1000, 1000,\n",
       "       1000, 1000, 1000, 1000, 1000, 1000, 1000, 1000, 1000, 1000, 1000,\n",
       "       1000, 1000, 1000, 1000, 1000, 1000, 1000, 1000, 1000, 1000, 1000,\n",
       "       1000, 1000, 1000, 1000, 1000, 1000, 1000, 1000, 1000, 1000, 1000,\n",
       "       1000, 1000, 1000, 1000, 1000, 1000, 1000, 1000, 1000, 1000, 1000,\n",
       "       1000, 1000, 1000, 1000, 1000, 1000, 1000, 1000, 1000, 1000, 1000,\n",
       "       1000, 1000, 1000, 1000, 1000, 1000, 1000, 1000, 1000, 1000, 1000,\n",
       "       1000, 1000, 1000, 1000, 1000, 1000, 1000, 1000, 1000, 1000, 1000,\n",
       "       1000, 1000, 1000, 1000, 1000, 1000, 1000, 1000, 1000, 1000, 1000,\n",
       "       1000, 1000, 1000, 1000, 1000, 1000, 1000, 1000, 1000, 1000, 1000,\n",
       "       1000, 1000, 1000, 1000, 1000, 1000, 1000, 1000, 1000, 1000, 1000,\n",
       "       1000, 1000, 1000, 1000, 1000, 1000, 1000, 1000, 1000, 1000, 1000,\n",
       "       1000, 1000, 1000, 1000, 1000, 1000, 1000, 1000, 1000, 1000, 1000,\n",
       "       1000, 1000, 1000, 1000, 1000, 1000, 1000, 1000, 1000, 1000, 1000,\n",
       "       1000, 1000, 1000, 1000, 1000, 1000, 1000, 1000, 1000, 1000, 1000,\n",
       "       1000, 1000, 1000, 1000, 1000, 1000, 1000, 1000, 1000, 1000, 1000,\n",
       "       1000, 1000, 1000, 1000, 1000, 1000, 1000, 1000, 1000, 1000])"
      ]
     },
     "execution_count": 45,
     "metadata": {},
     "output_type": "execute_result"
    }
   ],
   "source": [
    "# len(samples[\"m_u\"])\n",
    "# np.full(1000 , 1/1000)"
   ]
  },
  {
   "cell_type": "markdown",
   "metadata": {},
   "source": [
    "# Analisando o gráfico\n",
    "O eixo do x é o eixo das médias calculadas\n",
    "O euxo do y é o eixo das probabilidades\n",
    "\n"
   ]
  },
  {
   "cell_type": "markdown",
   "metadata": {},
   "source": [
    "# Fazendo predições a partir dos dados gerados\n"
   ]
  },
  {
   "cell_type": "code",
   "execution_count": 25,
   "metadata": {},
   "outputs": [
    {
     "name": "stdout",
     "output_type": "stream",
     "text": [
      "<MultiTrace: 1 chains, 1000 iterations, 3 variables>\n"
     ]
    }
   ],
   "source": [
    "print(samples)"
   ]
  },
  {
   "cell_type": "code",
   "execution_count": 24,
   "metadata": {},
   "outputs": [
    {
     "name": "stdout",
     "output_type": "stream",
     "text": [
      "[1.01436866 1.28940072 0.849104   1.42072297 1.29430104 1.54442341\n",
      " 1.58258146 1.21230708 1.30256228 1.10267311 1.19062191 1.11830768\n",
      " 1.39217866 1.38150719 1.47508885 1.27694134 1.40622854 1.20632985\n",
      " 1.35987575 1.37843325 1.22584352 1.09878883 1.81671536 1.02246629\n",
      " 1.42453493 1.48396826 1.06240832 1.00489708 1.37489421 1.17255872\n",
      " 1.10283799 0.65584993 1.27813481 1.35103345 1.60177363 1.0484445\n",
      " 1.0480026  1.16622245 1.17766694 0.78592138 1.32359355 0.72011929\n",
      " 1.28399115 1.52584246 1.3283718  0.97859275 1.6324297  1.02625061\n",
      " 1.19333785 1.3669515  1.11070164 1.26030277 1.11091528 1.1687152\n",
      " 1.40265065 1.34873882 1.03374925 1.31707374 1.56417423 1.23341294\n",
      " 1.29503735 1.45491291 1.19122336 1.52687421 1.18316782 1.33534452\n",
      " 1.61894344 1.45461414 1.47742815 1.39644393 1.12653368 1.31342466\n",
      " 1.73277215 1.25045358 1.40595208 1.64712403 1.4528627  1.44458209\n",
      " 1.34032146 1.43500111 1.01165706 1.50436819 1.32164179 1.26922102\n",
      " 1.59179292 1.1836709  1.13154961 1.51359358 1.07532707 1.343482\n",
      " 1.45726621 1.39666602 1.39335136 1.37540025 1.12549056 1.2712433\n",
      " 1.33544322 1.4157454  1.39313719 1.06492099 1.46162005 1.41064175\n",
      " 1.22527736 1.1174041  0.93533581 1.55046239 1.50725609 1.24713164\n",
      " 1.55348173 1.21326905 1.265955   1.46947073 1.14000066 0.82266915\n",
      " 1.98861686 1.95583831 0.9815225  1.41577297 0.81991583 1.62809659\n",
      " 1.30915723 1.22668835 1.02270556 1.29198092 1.2624261  1.17442927\n",
      " 1.58065246 0.88227843 1.26680594 1.2573115  1.55505248 1.34573676\n",
      " 1.1154822  1.51095611 1.35509537 1.44764619 1.53657992 1.23909904\n",
      " 1.63394485 1.30397502 1.26917221 1.00817572 1.05520076 1.57257217\n",
      " 1.60840708 1.58778253 1.28821183 1.48232045 1.36364434 1.72143471\n",
      " 1.53368217 1.50592013 1.44581353 1.47894527 1.48072531 1.30233492\n",
      " 1.28907696 1.28745657 0.89201646 0.97523835 1.66233126 1.15552483\n",
      " 1.27862194 1.27715606 1.54510823 1.52257015 1.4921997  1.10045389\n",
      " 1.43821458 1.55894065 1.24056042 1.47317095 1.00970772 1.60966855\n",
      " 1.40517091 1.55161068 1.6651609  0.70851015 1.40830519 1.64106143\n",
      " 1.64001797 1.17471249 1.33615344 1.06734183 1.07291484 1.52047187\n",
      " 1.59842328 1.08898796 1.27062246 1.54730745 1.39931508 1.51186309\n",
      " 1.51838969 1.55500461 1.47756497 1.3723968  1.48932961 1.35646983\n",
      " 0.9891384  1.01962886 1.17636302 1.22984852 1.3760962  1.2847515\n",
      " 1.36857892 1.45880721 1.27997228 0.73396832 1.78394774 1.64648929\n",
      " 1.43249117 1.25185886 1.21201856 1.46608679 1.34287651 1.42246688\n",
      " 0.96608817 1.55283944 1.70101415 1.34031064 1.55331401 1.40778283\n",
      " 1.42329264 1.33004466 1.91045892 1.199087   0.88572597 1.60150026\n",
      " 0.96013485 1.01793781 1.1208268  1.59971809 1.86182773 1.52775438\n",
      " 1.7986435  1.11954089 1.28049886 0.96434845 1.29086599 1.30185435\n",
      " 1.9555308  1.14847807 0.88319596 1.66286355 1.32283703 1.48179297\n",
      " 1.25266284 1.11378352 1.6248494  1.64662739 1.39323132 1.28815582\n",
      " 1.25119609 1.06718139 1.37852154 1.41592805 1.34002064 1.51023261\n",
      " 1.44426495 1.48962778 1.49846084 1.31646231 0.69933522 1.1178125\n",
      " 1.27648493 1.334152   1.3022856  1.77483427 1.30981196 1.35521218\n",
      " 1.3047267  1.59725301 1.46778471 1.55899076 1.37992441 1.46229633\n",
      " 1.56363663 1.52347153 1.37229161 1.48815315 1.38936247 1.76154592\n",
      " 1.00303637 1.17418065 1.31278601 1.32746617 1.26334186 1.49047448\n",
      " 1.09618623 0.80182234 1.11946671 1.51695709 0.98018725 1.02181371\n",
      " 0.98274276 1.61764262 1.5678561  1.57563884 1.03026781 1.15087022\n",
      " 0.96509331 1.32246641 1.177594   1.1304462  1.3412093  1.13143675\n",
      " 1.00384806 1.04828107 1.33781411 1.22145522 1.08774423 0.8652288\n",
      " 0.78821611 0.91811702 1.76619487 1.29998633 1.37960712 1.14333622\n",
      " 1.42355532 1.38109111 1.30121765 1.17043587 1.37678439 1.52069895\n",
      " 0.7830122  1.46708848 1.2645417  1.62596892 1.33338274 1.3141793\n",
      " 0.98077416 1.23336918 1.37015928 1.62844523 1.59373122 1.53680761\n",
      " 1.42776058 1.49567494 1.50228399 1.61166185 1.01891723 1.59552622\n",
      " 1.48722545 1.2876346  1.23741642 1.61312167 0.88803159 1.69374159\n",
      " 1.29934549 1.49990569 1.35794855 1.20092633 1.34179634 1.33297537\n",
      " 1.1760212  2.00317905 1.3492514  1.59421758 1.44169468 0.87812218\n",
      " 1.49616738 1.36622428 1.42202785 1.19307382 1.38190804 1.21377854\n",
      " 1.34937383 1.48174329 0.96064918 0.88334017 1.17403895 1.34102647\n",
      " 0.97276    1.9720404  1.16769503 1.31159844 1.44928792 0.88868268\n",
      " 1.20178713 1.09173199 1.3007185  1.02279949 1.01418331 1.19602783\n",
      " 1.31134885 0.98260904 1.27607364 1.38734663 1.09307004 1.7666084\n",
      " 1.16239091 1.40165371 1.37437788 1.24144023 1.78654579 1.46830206\n",
      " 1.46527021 1.32817038 1.57613837 1.65520966 0.84620926 1.08950818\n",
      " 1.40562123 1.39453029 1.30321254 0.80574888 1.38887966 1.57221697\n",
      " 1.23793061 1.289072   1.1986376  1.46457668 1.37536547 1.17195571\n",
      " 1.62576807 1.32321286 1.14736819 1.49753936 1.36574309 1.48782784\n",
      " 1.1783309  1.33336938 1.27319886 1.02556768 1.43868082 1.07589557\n",
      " 1.11602792 1.03821136 1.55361085 1.51667392 1.61036093 1.13563751\n",
      " 1.14851925 1.20774586 1.0006692  1.22688685 1.66071178 1.17070575\n",
      " 1.08239079 1.46193207 1.12022697 1.25699368 1.30391688 1.13941503\n",
      " 1.59859203 1.54933615 1.66004061 1.13059207 1.09303107 1.45542634\n",
      " 1.39280523 1.62503289 1.27961534 1.46321998 0.98041667 1.55835802\n",
      " 1.63604467 1.97758115 1.27891978 1.24578182 1.22218046 1.04794201\n",
      " 1.60666537 1.50032044 1.57979133 1.47997374 1.31291128 1.33205985\n",
      " 1.38701758 0.83156885 1.41788048 1.37682722 1.58617161 1.2264916\n",
      " 1.13581671 1.30859442 1.55366519 0.836446   1.05004488 1.5622424\n",
      " 1.12338352 0.81244869 1.14659471 1.13365331 1.2016675  1.35501828\n",
      " 1.77631661 1.5012858  1.195699   1.60783778 1.43972036 1.3509171\n",
      " 1.3873315  1.54282912 0.97738674 1.33324686 1.63811735 1.29370295\n",
      " 1.01601308 1.50353275 1.74021629 1.29611802 0.79072587 1.40744602\n",
      " 1.15380743 1.5895606  1.03438304 1.15996201 1.57359944 1.35004579\n",
      " 1.60401073 1.2080296  1.41610908 1.06013639 1.51410214 1.23339161\n",
      " 1.32240534 1.018269   1.24348396 1.43992483 1.1154011  0.84956493\n",
      " 1.41728952 1.33585636 1.48258647 1.32219365 1.4552408  1.37729023\n",
      " 1.36295257 1.26113803 1.44819022 1.44698009 1.25228483 1.22204311\n",
      " 1.30204708 0.46551725 1.46082558 1.34229963 1.09830531 1.10626518\n",
      " 1.5104866  1.41768105 1.37925262 1.01341998 1.12435302 1.27909734\n",
      " 1.47289054 1.50901714 1.29328155 1.26918259 0.88644489 1.36361594\n",
      " 1.12555886 1.54096169 0.93666602 1.35505016 1.60595529 1.13623865\n",
      " 1.52455393 1.22737215 1.03042815 1.12526507 1.26485671 1.19696805\n",
      " 1.51850049 1.52462891 0.97329627 0.86232253 0.95240928 1.42170176\n",
      " 1.41610087 1.32228112 1.2790571  1.29943556 1.34043981 1.32657608\n",
      " 1.73421119 1.44020672 1.3243289  1.3784001  1.04661739 1.15783563\n",
      " 0.9647257  1.00381064 1.28968129 0.93208362 1.29829594 1.2619471\n",
      " 1.01238866 1.41706308 0.99345736 1.40021729 1.8158886  1.26408864\n",
      " 1.62981168 1.14780696 1.181433   1.35271654 1.38631722 1.07911886\n",
      " 1.06006393 0.86571993 1.88929662 0.99193436 1.06729445 1.4987739\n",
      " 0.8901066  0.81993747 1.28621871 1.12602056 1.01700808 1.63809462\n",
      " 1.36756868 0.94568523 1.36254123 1.32664732 1.62355613 1.37079956\n",
      " 1.60141398 1.17627323 1.15943735 1.3630267  1.52282092 1.3109535\n",
      " 1.10810889 1.22794655 1.33039213 1.47242426 1.45079477 1.40504255\n",
      " 1.33613611 0.91762767 1.26478187 0.9194116  1.20469748 1.43267124\n",
      " 0.99259484 1.41782741 1.11793849 1.13740889 1.18280092 1.30811\n",
      " 1.8522039  1.26356872 1.44436956 1.14304515 1.35182871 1.22276611\n",
      " 1.45377319 0.90092884 1.20010812 1.15411146 1.26885999 1.15238712\n",
      " 1.36374517 1.47021296 1.41056897 1.28019364 1.35183381 1.46793726\n",
      " 1.43946876 1.51425351 1.24086366 1.94288582 1.06019896 1.74330072\n",
      " 1.27315664 1.08829193 1.16585303 1.20878375 1.60616577 1.32148448\n",
      " 1.34320207 1.28667134 1.21527733 1.10022332 1.44296463 1.31081044\n",
      " 1.03483326 1.2475569  1.53118952 1.07067172 1.08604633 0.958113\n",
      " 1.15615256 1.281684   1.72318462 1.45256415 1.24758625 1.76784987\n",
      " 1.34409787 1.02798928 1.24135947 1.21233948 1.75113222 1.23177107\n",
      " 1.07214329 1.30619316 1.20239993 1.5033851  1.36442562 1.13072485\n",
      " 1.33140227 1.24592714 1.36680945 1.31612126 0.80920213 1.15493946\n",
      " 1.25743616 1.45441592 1.39449656 0.91170888 1.40882555 1.37362644\n",
      " 1.11455017 1.02595912 0.97249637 1.76751155 1.07704772 1.46931865\n",
      " 1.47241181 1.41603906 1.24431801 1.48333739 1.48546216 1.26973836\n",
      " 1.2865626  1.05890822 1.22080242 1.07577013 1.16139476 1.11248414\n",
      " 1.59149944 1.11107981 1.19252326 1.48346868 1.22135974 1.50883586\n",
      " 1.57882095 1.1450758  0.79021206 1.74735592 1.35089057 1.57923521\n",
      " 1.18073954 1.28076218 1.22306081 1.9508016  1.38432833 1.69226349\n",
      " 1.62983735 1.62705984 1.61554482 1.11613711 1.45101456 1.4531169\n",
      " 1.16766619 1.23406472 1.18782203 1.36726693 1.535477   1.17976822\n",
      " 1.29693124 1.24341908 1.12466025 1.40984012 1.33276044 1.34718271\n",
      " 1.2948947  1.73874662 1.49230965 1.20549869 1.55895192 1.4961724\n",
      " 1.0976603  0.97858818 1.48751975 0.91917738 1.19853932 1.63193925\n",
      " 1.02829194 1.36810146 1.06792436 1.1965278  1.18191887 1.54821793\n",
      " 1.22525774 1.72730658 1.27629772 1.11070171 1.32387969 1.63256538\n",
      " 1.21801457 1.53823412 1.12194477 1.40636714 1.44044222 0.82184678\n",
      " 1.40290392 1.06853853 1.1655553  1.4198964  1.5645373  1.06340335\n",
      " 1.81865213 1.6884314  1.54174231 1.24512327 1.26022105 1.31082764\n",
      " 1.51111315 1.19934549 1.34557996 1.37735741 1.52229508 1.19449004\n",
      " 1.42093483 1.30851904 1.58472464 0.92920623 1.31804563 1.23688132\n",
      " 1.13392963 1.25163704 1.53887115 1.04595773 1.29926532 1.38442376\n",
      " 1.18105145 1.82471248 1.29670621 1.11375729 1.40514016 1.28951212\n",
      " 1.31531956 1.28655823 1.31832235 1.27611442 1.23633932 1.1877002\n",
      " 1.75015782 1.59819848 1.6216442  1.14889581 1.29141195 1.18662757\n",
      " 1.58509029 0.9797467  1.76411987 1.50635144 1.50801916 1.60767489\n",
      " 1.54855764 1.37444762 0.96628225 1.01335334 1.27576424 1.39495779\n",
      " 1.51474373 1.52526728 1.28415808 1.50626088 1.5987665  0.94614162\n",
      " 1.46146006 1.27019235 1.21128292 1.30828274 1.18536771 1.50945267\n",
      " 1.39153615 1.40137665 1.21989673 0.85184362 1.31153682 1.76839837\n",
      " 1.81534148 1.58356461 1.38088493 1.53558351 1.44069281 1.17153835\n",
      " 1.59897825 1.45414243 0.98674102 1.33120933 1.52345701 1.56900521\n",
      " 1.8417732  1.5533334  1.36618902 1.6482198  1.49089209 1.08123069\n",
      " 1.05323923 1.3159565  1.25899262 0.53943413 1.33438942 1.39699593\n",
      " 1.6990253  0.79223768 1.43819953 1.25463634 1.55767312 0.9314993\n",
      " 1.25622939 1.49849664 1.25193798 1.86718842 1.23499647 1.43876792\n",
      " 1.40445425 1.44442068 1.42385871 1.28891767 1.36870901 1.40232387\n",
      " 1.39995887 1.87182503 1.46038974 1.08983774 1.21078964 0.83365557\n",
      " 1.25890359 1.33889475 1.26844413 1.33102658 1.2635386  1.53245458\n",
      " 1.00099847 1.34273593 1.34553895 1.76130374 1.51273224 1.33595678\n",
      " 1.23237511 1.260923   1.21934829 0.97438324 1.15762619 1.79273241\n",
      " 1.2067343  1.49195729 1.71764294 1.14187904 1.23041159 1.50576665\n",
      " 1.44984573 1.4484155  1.64299551 1.67273485 1.36006549 1.23100752\n",
      " 0.99809577 1.32287335 1.38722013 1.24092929 1.45333991 1.3917049\n",
      " 1.88882035 1.47325544 1.00280324 1.14949984 1.74716624 1.20018627\n",
      " 1.33288893 1.55805347 1.07483896 1.63051314 1.1806589  1.01540647\n",
      " 1.18858811 1.35851621 1.20365902 1.10204122 1.2143291  1.19760775\n",
      " 1.64151122 1.41386272 1.35729723 1.36582847 1.49539068 1.06638542\n",
      " 1.31039207 1.81468014 1.1515526  1.49726027 0.94191384 1.59772348\n",
      " 1.54138232 1.34448708 1.22279017 0.95480467 1.16628869 1.72802402\n",
      " 1.48270612 1.24340692 1.30488184 1.1352001 ]\n"
     ]
    }
   ],
   "source": [
    "# podemos estrair o posteiror\n",
    "\n",
    "mus = samples[\"m_u\"]\n",
    "print(mus)\n",
    "sigmas = samples[\"sd\"]"
   ]
  },
  {
   "cell_type": "code",
   "execution_count": 48,
   "metadata": {},
   "outputs": [],
   "source": [
    "# Draw, sacando valores do posterior de mus e sigmas\n",
    "radon_samples = Normal.dist(mus,sigmas).random()"
   ]
  },
  {
   "cell_type": "code",
   "execution_count": null,
   "metadata": {},
   "outputs": [],
   "source": []
  },
  {
   "cell_type": "code",
   "execution_count": 30,
   "metadata": {},
   "outputs": [
    {
     "data": {
      "text/plain": [
       "0.47"
      ]
     },
     "execution_count": 30,
     "metadata": {},
     "output_type": "execute_result"
    }
   ],
   "source": [
    "# Realizando uma operação vetoriale aplicando o resultado a uma media\n",
    "(radon_samples > np.log(4)).mean()"
   ]
  },
  {
   "cell_type": "code",
   "execution_count": null,
   "metadata": {},
   "outputs": [],
   "source": [
    "#posterior predictive distribution"
   ]
  },
  {
   "cell_type": "markdown",
   "metadata": {},
   "source": [
    "# Conferindo o nosso posterior\n",
    "Tiramos uma amostra de valores da nossa distribuição e estamo comporando como ela se parece"
   ]
  },
  {
   "cell_type": "code",
   "execution_count": null,
   "metadata": {},
   "outputs": [],
   "source": [
    "Mudando os prior"
   ]
  },
  {
   "cell_type": "code",
   "execution_count": 31,
   "metadata": {},
   "outputs": [],
   "source": [
    "import seaborn as sns"
   ]
  },
  {
   "cell_type": "code",
   "execution_count": 33,
   "metadata": {},
   "outputs": [
    {
     "data": {
      "text/plain": [
       "<matplotlib.axes._subplots.AxesSubplot at 0x18dd2c60fc8>"
      ]
     },
     "execution_count": 33,
     "metadata": {},
     "output_type": "execute_result"
    },
    {
     "data": {
      "image/png": "[encoded data removed]",
      "text/plain": [
       "<Figure size 432x288 with 1 Axes>"
      ]
     },
     "metadata": {
      "needs_background": "light"
     },
     "output_type": "display_data"
    }
   ],
   "source": [
    "sns.distplot(radon_samples, label=\"simulated\")\n",
    "sns.distplot(data, label=\"observed\")"
   ]
  }
 ],
 "metadata": {
  "kernelspec": {
   "display_name": "Python 3.7.5 64-bit",
   "language": "python",
   "name": "python37564bit4546ba188b324a8bbbbe11ffc4ecb662"
  },
  "language_info": {
   "codemirror_mode": {
    "name": "ipython",
    "version": 3
   },
   "file_extension": ".py",
   "mimetype": "text/x-python",
   "name": "python",
   "nbconvert_exporter": "python",
   "pygments_lexer": "ipython3",
   "version": "3.7.5"
  }
 },
 "nbformat": 4,
 "nbformat_minor": 4
}
