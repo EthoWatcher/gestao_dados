{
 "cells": [
  {
   "cell_type": "code",
   "execution_count": 1,
   "metadata": {},
   "outputs": [],
   "source": [
    "import querys_feitas as qf\n",
    "import pandas as pd\n",
    "from bson.objectid import ObjectId"
   ]
  },
  {
   "cell_type": "code",
   "execution_count": 2,
   "metadata": {},
   "outputs": [],
   "source": [
    "dict_query = { \"$and\": [{\"id_experimento\": ObjectId(\"5ea1a82993f4d56ba41e567d\")}, \n",
    "                        {\"var_ind.sexo\":\"macho\"},{\"$or\": [{\"var_ind.dosagem\": \"flx2.5mg\"},\n",
    "                                 {\"var_ind.dosagem\": \"veiculo\"} ]}\n",
    "                        ]}"
   ]
  },
  {
   "cell_type": "code",
   "execution_count": 3,
   "metadata": {},
   "outputs": [],
   "source": [
    "def get_cursor(query):\n",
    "    j = qf.Get_Juncoes(query)\n",
    "    cursor = j.get_cursor()\n",
    "    return cursor"
   ]
  },
  {
   "cell_type": "code",
   "execution_count": 4,
   "metadata": {},
   "outputs": [
    {
     "name": "stdout",
     "output_type": "stream",
     "text": [
      "     sexo   dosagem unidade                      id_j\n",
      "0   macho  flx2.5mg      A1  5ea2305793f4d55ef0298297\n",
      "1   macho  flx2.5mg      A2  5ea2305793f4d55ef02982a0\n",
      "2   macho  flx2.5mg      A2  5ea2305793f4d55ef02982a9\n",
      "3   macho  flx2.5mg      A2  5ea2305893f4d55ef02982b2\n",
      "4   macho  flx2.5mg      A2  5ea2305893f4d55ef02982bb\n",
      "5   macho  flx2.5mg      A3  5ea2305893f4d55ef02982c4\n",
      "6   macho  flx2.5mg      A4  5ea2305993f4d55ef02982cd\n",
      "7   macho  flx2.5mg      A5  5ea2305993f4d55ef02982d6\n",
      "8   macho  flx2.5mg      A6  5ea2305993f4d55ef02982df\n",
      "9   macho  flx2.5mg      A6  5ea2305a93f4d55ef02982e8\n",
      "10  macho  flx2.5mg      A6  5ea2305a93f4d55ef02982f1\n",
      "11  macho  flx2.5mg      A6  5ea2305a93f4d55ef02982fa\n",
      "12  macho   veiculo      A1  5ea2305d93f4d55ef029834b\n",
      "13  macho   veiculo      A2  5ea2305e93f4d55ef0298354\n",
      "14  macho   veiculo      A3  5ea2305e93f4d55ef029835d\n",
      "15  macho   veiculo      A4  5ea2305e93f4d55ef0298366\n",
      "16  macho   veiculo      A5  5ea2305f93f4d55ef029836f\n",
      "17  macho   veiculo      A6  5ea2305f93f4d55ef0298378\n"
     ]
    }
   ],
   "source": [
    "lis_de_juncao = [\"sexo\", \"dosagem\", \"unidade\"]\n",
    "\n",
    "\n",
    "cdj = qf.Constru_descritor_juncao(lis_de_juncao)\n",
    "resultado = cdj.get_descritor(list(get_cursor(dict_query)))\n",
    "tr = qf.Transforma_Estrutura_Dados_Panda(resultado)\n",
    "df = tr.get_df()\n",
    "print(df)"
   ]
  },
  {
   "cell_type": "code",
   "execution_count": 5,
   "metadata": {},
   "outputs": [
    {
     "name": "stdout",
     "output_type": "stream",
     "text": [
      "    d_e_Immobility_s  f_e_Immobility_s  d_e_Swimming_s  f_e_Swimming_s  \\\n",
      "0          31.466667                41        8.633333              17   \n",
      "1          34.566667                44       10.366667              19   \n",
      "2          47.900000                54        6.166667              22   \n",
      "3          33.600000                38       13.800000              15   \n",
      "4          47.466667                53        8.500000              24   \n",
      "5         119.900000                61       10.400000              34   \n",
      "6          64.633333                45       12.966667              29   \n",
      "7          87.966667               105       22.500000              57   \n",
      "8          79.466667                81       23.533333              43   \n",
      "9          92.466667                81       16.900000              40   \n",
      "10         92.233333                90       25.300000              53   \n",
      "11         92.666667                83       25.733333              49   \n",
      "12         54.900000                61       69.933333              53   \n",
      "13        128.533333                85       22.166667              52   \n",
      "14         87.866667                58        9.466667              21   \n",
      "15         58.066667                64       26.933333              49   \n",
      "16        109.000000                80       21.433333              46   \n",
      "17         75.400000                59       53.933333              46   \n",
      "\n",
      "                      id_eto                      id_j  \n",
      "0   5ea2305793f4d55ef029829b  5ea2305793f4d55ef0298297  \n",
      "1   5ea2305793f4d55ef02982a4  5ea2305793f4d55ef02982a0  \n",
      "2   5ea2305793f4d55ef02982ad  5ea2305793f4d55ef02982a9  \n",
      "3   5ea2305893f4d55ef02982b6  5ea2305893f4d55ef02982b2  \n",
      "4   5ea2305893f4d55ef02982bf  5ea2305893f4d55ef02982bb  \n",
      "5   5ea2305893f4d55ef02982c8  5ea2305893f4d55ef02982c4  \n",
      "6   5ea2305993f4d55ef02982d1  5ea2305993f4d55ef02982cd  \n",
      "7   5ea2305993f4d55ef02982da  5ea2305993f4d55ef02982d6  \n",
      "8   5ea2305993f4d55ef02982e3  5ea2305993f4d55ef02982df  \n",
      "9   5ea2305a93f4d55ef02982ec  5ea2305a93f4d55ef02982e8  \n",
      "10  5ea2305a93f4d55ef02982f5  5ea2305a93f4d55ef02982f1  \n",
      "11  5ea2305a93f4d55ef02982fe  5ea2305a93f4d55ef02982fa  \n",
      "12  5ea2305d93f4d55ef029834f  5ea2305d93f4d55ef029834b  \n",
      "13  5ea2305e93f4d55ef0298358  5ea2305e93f4d55ef0298354  \n",
      "14  5ea2305e93f4d55ef0298361  5ea2305e93f4d55ef029835d  \n",
      "15  5ea2305e93f4d55ef029836a  5ea2305e93f4d55ef0298366  \n",
      "16  5ea2305f93f4d55ef0298373  5ea2305f93f4d55ef029836f  \n",
      "17  5ea2305f93f4d55ef029837c  5ea2305f93f4d55ef0298378  \n"
     ]
    }
   ],
   "source": [
    "cs = qf.Get_CSV(dict_query)\n",
    "li_str_descritores = [\"duracao\", \"frequencia\"]\n",
    "li_str_categora = [\"Immobility\", \"Swimming\"]\n",
    "\n",
    "data = cs.set_descritores_experimentais(li_str_descritores, li_str_categora )\n",
    "tr1 = qf.Transforma_Estrutura_Dados_Panda(data)\n",
    "df1 = tr1.get_df()\n",
    "print(df1)"
   ]
  },
  {
   "cell_type": "code",
   "execution_count": 7,
   "metadata": {},
   "outputs": [
    {
     "ename": "TypeError",
     "evalue": "merge() missing 1 required positional argument: 'right'",
     "output_type": "error",
     "traceback": [
      "\u001b[1;31m---------------------------------------------------------------------------\u001b[0m",
      "\u001b[1;31mTypeError\u001b[0m                                 Traceback (most recent call last)",
      "\u001b[1;32m<ipython-input-7-158c2f4a85e9>\u001b[0m in \u001b[0;36m<module>\u001b[1;34m\u001b[0m\n\u001b[1;32m----> 1\u001b[1;33m \u001b[0mdf_merge_col\u001b[0m \u001b[1;33m=\u001b[0m \u001b[0mpd\u001b[0m\u001b[1;33m.\u001b[0m\u001b[0mmerge\u001b[0m\u001b[1;33m(\u001b[0m\u001b[1;33m[\u001b[0m\u001b[0mdf\u001b[0m\u001b[1;33m,\u001b[0m \u001b[0mdf1\u001b[0m\u001b[1;33m]\u001b[0m\u001b[1;33m,\u001b[0m \u001b[0mon\u001b[0m\u001b[1;33m=\u001b[0m\u001b[1;34m'id_j'\u001b[0m\u001b[1;33m)\u001b[0m\u001b[1;33m\u001b[0m\u001b[1;33m\u001b[0m\u001b[0m\n\u001b[0m\u001b[0;32m      2\u001b[0m \u001b[0mdf_merge_col\u001b[0m\u001b[1;33m\u001b[0m\u001b[1;33m\u001b[0m\u001b[0m\n",
      "\u001b[1;31mTypeError\u001b[0m: merge() missing 1 required positional argument: 'right'"
     ]
    }
   ],
   "source": [
    "df_merge_col = pd.merge(df df1, on='id_j')\n",
    "df_merge_col"
   ]
  },
  {
   "cell_type": "code",
   "execution_count": null,
   "metadata": {},
   "outputs": [],
   "source": []
  }
 ],
 "metadata": {
  "kernelspec": {
   "display_name": "Python 3",
   "language": "python",
   "name": "python3"
  },
  "language_info": {
   "codemirror_mode": {
    "name": "ipython",
    "version": 3
   },
   "file_extension": ".py",
   "mimetype": "text/x-python",
   "name": "python",
   "nbconvert_exporter": "python",
   "pygments_lexer": "ipython3",
   "version": "3.7.5"
  }
 },
 "nbformat": 4,
 "nbformat_minor": 4
}
