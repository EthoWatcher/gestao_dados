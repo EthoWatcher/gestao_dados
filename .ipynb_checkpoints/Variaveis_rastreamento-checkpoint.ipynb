{
 "cells": [
  {
   "cell_type": "code",
   "execution_count": null,
   "metadata": {},
   "outputs": [],
   "source": [
    "import querys_feitas as qf\n",
    "import pandas as pd\n",
    "from bson.objectid import ObjectId"
   ]
  },
  {
   "cell_type": "code",
   "execution_count": null,
   "metadata": {},
   "outputs": [],
   "source": []
  },
  {
   "cell_type": "code",
   "execution_count": null,
   "metadata": {},
   "outputs": [],
   "source": []
  },
  {
   "cell_type": "code",
   "execution_count": null,
   "metadata": {},
   "outputs": [],
   "source": [
    "dict_query = { \"$and\": [{\"id_experimento\": ObjectId(\"5ea1a82993f4d56ba41e567d\")}, \n",
    "                        {\"var_ind.sexo\":\"macho\"},\n",
    "                        {\"var_ind.dosagem\": \"flx2.5mg\"}]}\n",
    "\n",
    "list_var_rastreamento =[\"@Vd\", \"@Van\"]\n",
    "de_ras = qf.Constru_descritor_rastreamento(list_var_rastreamento, dict_query)\n",
    "result = de_ras.get_descritor()\n",
    "\n",
    "tr = qf.Transforma_Estrutura_Dados_Panda_list_dados(result)\n",
    "df = tr.get_df()"
   ]
  },
  {
   "cell_type": "code",
   "execution_count": null,
   "metadata": {},
   "outputs": [],
   "source": [
    "df"
   ]
  }
 ],
 "metadata": {
  "kernelspec": {
   "display_name": "Python 3",
   "language": "python",
   "name": "python3"
  },
  "language_info": {
   "codemirror_mode": {
    "name": "ipython",
    "version": 3
   },
   "file_extension": ".py",
   "mimetype": "text/x-python",
   "name": "python",
   "nbconvert_exporter": "python",
   "pygments_lexer": "ipython3",
   "version": "3.7.5"
  }
 },
 "nbformat": 4,
 "nbformat_minor": 4
}
