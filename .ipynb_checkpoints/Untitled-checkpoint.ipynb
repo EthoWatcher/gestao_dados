{
 "cells": [
  {
   "cell_type": "code",
   "execution_count": 1,
   "metadata": {},
   "outputs": [],
   "source": [
    "import querys_feitas as qf\n",
    "import pandas as pd\n",
    "from bson.objectid import ObjectId"
   ]
  },
  {
   "cell_type": "code",
   "execution_count": 2,
   "metadata": {},
   "outputs": [],
   "source": [
    "dict_query = { \"$and\": [{\"id_experimento\": ObjectId(\"5ea1a82993f4d56ba41e567d\")}, {\"var_inde\": { \"$all\": [\"macho\",\"flx2.5mg\"]}}]}\n",
    "cs = qf.Get_CSV(dict_query)\n",
    "li_str_descritores = [\"duracao\", \"frequencia\"]\n",
    "li_str_categora = [\"Immobility\", \"Swimming\"]\n",
    "\n",
    "data = cs.set_descritores_experimentais(li_str_descritores, li_str_categora )\n",
    "# print(data[\"5ea1d2d793f4d539f4d5e907\"])"
   ]
  },
  {
   "cell_type": "code",
   "execution_count": 18,
   "metadata": {},
   "outputs": [
    {
     "name": "stdout",
     "output_type": "stream",
     "text": [
      "['d_e_Immobility_s', 'f_e_Immobility_s', 'd_e_Swimming_s', 'f_e_Swimming_s', 'id_eto', 'id_j']\n"
     ]
    }
   ],
   "source": [
    "def get_keys(array):\n",
    "    return array[0]\n",
    "\n",
    "keys =[]\n",
    "for d in data[0]:\n",
    "    keys.append(list(d.keys()))\n",
    "\n",
    "keys = list(map(get_keys,keys))\n",
    "print(keys)\n",
    "\n"
   ]
  },
  {
   "cell_type": "code",
   "execution_count": 41,
   "metadata": {},
   "outputs": [
    {
     "ename": "SyntaxError",
     "evalue": "unexpected EOF while parsing (<ipython-input-41-b195fad70797>, line 13)",
     "output_type": "error",
     "traceback": [
      "\u001b[1;36m  File \u001b[1;32m\"<ipython-input-41-b195fad70797>\"\u001b[1;36m, line \u001b[1;32m13\u001b[0m\n\u001b[1;33m    # print(list(map(cons_map_by_key(keys[0]),d)))\u001b[0m\n\u001b[1;37m                                                  ^\u001b[0m\n\u001b[1;31mSyntaxError\u001b[0m\u001b[1;31m:\u001b[0m unexpected EOF while parsing\n"
     ]
    }
   ],
   "source": [
    "def cons_map_by_key(key):\n",
    "    def map_va(data):\n",
    "        return data[key]\n",
    "    return map_va\n",
    "    \n",
    "dic = {}\n",
    "d= []\n",
    "for juncao in data:\n",
    "    d.append(juncao[0])\n",
    "\n",
    "al[keys[0]]= list(map(cons_map_by_key(keys[0]),d)\n",
    "\n",
    "# print(list(map(cons_map_by_key(keys[0]),d)))"
   ]
  },
  {
   "cell_type": "code",
   "execution_count": 35,
   "metadata": {},
   "outputs": [
    {
     "data": {
      "text/plain": [
       "{'d_e_Immobility_s': 31.466666666666665,\n",
       " 'info': 'Duração do comportamento Immobility no experimento (s)'}"
      ]
     },
     "execution_count": 35,
     "metadata": {},
     "output_type": "execute_result"
    }
   ],
   "source": [
    "keys[0]\n",
    "d[0]"
   ]
  },
  {
   "cell_type": "code",
   "execution_count": null,
   "metadata": {},
   "outputs": [],
   "source": []
  }
 ],
 "metadata": {
  "kernelspec": {
   "display_name": "Python 3",
   "language": "python",
   "name": "python3"
  },
  "language_info": {
   "codemirror_mode": {
    "name": "ipython",
    "version": 3
   },
   "file_extension": ".py",
   "mimetype": "text/x-python",
   "name": "python",
   "nbconvert_exporter": "python",
   "pygments_lexer": "ipython3",
   "version": "3.7.5"
  }
 },
 "nbformat": 4,
 "nbformat_minor": 4
}
